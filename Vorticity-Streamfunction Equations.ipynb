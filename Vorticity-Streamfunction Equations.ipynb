{
 "cells": [
  {
   "cell_type": "code",
   "execution_count": 7,
   "id": "76322bcb-9d32-4358-9b33-802e113d89e7",
   "metadata": {},
   "outputs": [
    {
     "name": "stdout",
     "output_type": "stream",
     "text": [
      "A1:\n",
      "[[-0.64  0.16  0.   ...  0.    0.    0.  ]\n",
      " [ 0.16 -0.64  0.16 ...  0.    0.    0.  ]\n",
      " [ 0.    0.16 -0.64 ...  0.    0.    0.  ]\n",
      " ...\n",
      " [ 0.    0.    0.   ... -0.64  0.16  0.  ]\n",
      " [ 0.    0.    0.   ...  0.16 -0.64  0.16]\n",
      " [ 0.    0.    0.   ...  0.    0.16 -0.64]]\n",
      "A2:\n",
      "[[0. 0. 0. ... 0. 0. 0.]\n",
      " [0. 0. 0. ... 0. 0. 0.]\n",
      " [0. 0. 0. ... 0. 0. 0.]\n",
      " ...\n",
      " [0. 0. 0. ... 0. 0. 0.]\n",
      " [0. 0. 0. ... 0. 0. 0.]\n",
      " [0. 0. 0. ... 0. 0. 0.]]\n",
      "A3:\n",
      "[[ 0.   0.2  0.  ...  0.   0.   0. ]\n",
      " [-0.2  0.   0.2 ...  0.   0.   0. ]\n",
      " [ 0.  -0.2  0.  ...  0.   0.   0. ]\n",
      " ...\n",
      " [ 0.   0.   0.  ...  0.   0.2  0. ]\n",
      " [ 0.   0.   0.  ... -0.2  0.   0.2]\n",
      " [ 0.   0.   0.  ...  0.  -0.2  0. ]]\n"
     ]
    }
   ],
   "source": [
    "import numpy as np\n",
    "from scipy.sparse import spdiags\n",
    "\n",
    "m = 8\n",
    "n = m * m\n",
    "dn = 20 / m\n",
    "\n",
    "e0 = np.zeros((n, 1))\n",
    "e1 = np.ones((n, 1))\n",
    "e2 = np.copy(e1)\n",
    "e4 = np.copy(e0)\n",
    "\n",
    "for j in range(1, m+1):\n",
    "    e2[m*j-1] = 0\n",
    "    e4[m*j-1] = 1\n",
    "\n",
    "e3 = np.zeros_like(e2)\n",
    "e3[1:n] = e2[0:n-1]\n",
    "e3[0] = e2[n-1]\n",
    "\n",
    "e5 = np.zeros_like(e4)\n",
    "e5[1:n] = e4[0:n-1]\n",
    "e5[0] = e4[n-1]\n",
    "\n",
    "diagonals = [e1.flatten(), e1.flatten(), e5.flatten(),\n",
    "             e2.flatten(), -4 * e1.flatten(), e3.flatten(), \n",
    "             e4.flatten(), e1.flatten(), e1.flatten()]\n",
    "offsets = [-(n-m), -m, -m+1, -1, 0, 1, m-1, m, (n-m)] \n",
    "\n",
    "A = spdiags(diagonals, offsets, n, n).toarray()\n",
    "A1 = A / (dn**2)\n",
    "\n",
    "adds = (1 / (2 * dn)) * np.ones((n, 1))\n",
    "subs = -adds\n",
    "diagonals_B = [adds.flatten(), adds.flatten(), subs.flatten(), subs.flatten()]\n",
    "offsets_B = [m, -(n - m), (n - m), -m]\n",
    "A2 = spdiags(diagonals_B, offsets_B, n, n).toarray()\n",
    "\n",
    "diagonals_C = [e5.flatten(), -e2.flatten(), e3.flatten(), -e4.flatten()]\n",
    "offsets_C = [-(m - 1), -1, 1, (m - 1)]\n",
    "C = spdiags(diagonals_C, offsets_C, n, n).toarray()\n",
    "A3 = C * (1 / (2 * dn))\n",
    "\n",
    "print(\"A1:\")\n",
    "print(A1)\n",
    "print(\"A2:\")\n",
    "print(A2)\n",
    "print(\"A3:\")\n",
    "print(A3)"
   ]
  },
  {
   "cell_type": "code",
   "execution_count": null,
   "id": "9abe9375-d63e-4729-bb70-c231d0508f61",
   "metadata": {},
   "outputs": [],
   "source": []
  }
 ],
 "metadata": {
  "kernelspec": {
   "display_name": "Python 3 (ipykernel)",
   "language": "python",
   "name": "python3"
  },
  "language_info": {
   "codemirror_mode": {
    "name": "ipython",
    "version": 3
   },
   "file_extension": ".py",
   "mimetype": "text/x-python",
   "name": "python",
   "nbconvert_exporter": "python",
   "pygments_lexer": "ipython3",
   "version": "3.12.4"
  }
 },
 "nbformat": 4,
 "nbformat_minor": 5
}
